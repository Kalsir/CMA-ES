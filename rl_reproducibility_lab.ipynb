{
  "nbformat": 4,
  "nbformat_minor": 0,
  "metadata": {
    "colab": {
      "name": "rl_reproducibility_lab.ipynb",
      "provenance": [],
      "collapsed_sections": [],
      "toc_visible": true,
      "include_colab_link": true
    },
    "kernelspec": {
      "name": "python3",
      "display_name": "Python 3"
    }
  },
  "cells": [
    {
      "cell_type": "markdown",
      "metadata": {
        "id": "view-in-github",
        "colab_type": "text"
      },
      "source": [
        "<a href=\"https://colab.research.google.com/github/Kalsir/CMA-ES/blob/master/rl_reproducibility_lab.ipynb\" target=\"_parent\"><img src=\"https://colab.research.google.com/assets/colab-badge.svg\" alt=\"Open In Colab\"/></a>"
      ]
    },
    {
      "cell_type": "code",
      "metadata": {
        "id": "DtG5ISX-xuUN",
        "colab_type": "code",
        "colab": {}
      },
      "source": [
        "# https://colab.research.google.com/drive/1EPZn-Hkm-l_FPmQNXn3G6HpCpJWUj7oWhttps://colab.research.google.com/drive/1EPZn-Hkm-l_FPmQNXn3G6HpCpJWUj7oW%matplotlib inline\n",
        "import os\n",
        "import numpy as np\n",
        "import matplotlib.pyplot as plt\n",
        "import sys\n",
        "\n",
        "import torch\n",
        "from torch import nn\n",
        "import torch.nn.functional as F\n",
        "from torch import optim\n",
        "from tqdm import tqdm as _tqdm\n",
        "from scipy.integrate import simps\n",
        "\n",
        "import random\n",
        "import time\n",
        "from collections import defaultdict\n",
        "from collections import deque\n",
        "import copy\n",
        "\n",
        "def tqdm(*args, **kwargs):\n",
        "    return _tqdm(*args, **kwargs, mininterval=1)  # Safety, do not overflow buffer\n",
        "\n",
        "assert sys.version_info[:3] >= (3, 6, 0), \"Make sure you have Python 3.6 installed!\""
      ],
      "execution_count": 0,
      "outputs": []
    },
    {
      "cell_type": "code",
      "metadata": {
        "id": "yR7GS6T0yfiG",
        "colab_type": "code",
        "colab": {}
      },
      "source": [
        "# Import environments\n",
        "import gym\n",
        "cartpole_env = gym.envs.make(\"CartPole-v0\")\n",
        "mountaincar_env = gym.envs.make(\"MountainCar-v0\")\n",
        "acrobot_env = gym.envs.make(\"Acrobot-v1\") "
      ],
      "execution_count": 0,
      "outputs": []
    },
    {
      "cell_type": "code",
      "metadata": {
        "id": "P8e39U0RzFQ-",
        "colab_type": "code",
        "colab": {}
      },
      "source": [
        "# Set seeds (this is a reproducibility lab after all)\n",
        "def set_seeds(seed):\n",
        "  torch.manual_seed(seed)\n",
        "  np.random.seed(seed)\n",
        "  random.seed(seed)\n",
        "  cartpole_env.seed(seed)\n",
        "  mountaincar_env.seed(seed)\n",
        "  acrobot_env.seed(seed)"
      ],
      "execution_count": 0,
      "outputs": []
    },
    {
      "cell_type": "code",
      "metadata": {
        "id": "sK3j4tygyZI-",
        "colab_type": "code",
        "colab": {}
      },
      "source": [
        "# Q-net\n",
        "class QNetwork(nn.Module):\n",
        "    \n",
        "    def __init__(self, input_dim, action_space, num_hidden=128):\n",
        "        nn.Module.__init__(self)\n",
        "        self.l1 = nn.Linear(input_dim, num_hidden)\n",
        "        self.l2 = nn.Linear(num_hidden, action_space)\n",
        "\n",
        "    def forward(self, x):\n",
        "        x = self.l1(x)\n",
        "        x = F.relu(x)\n",
        "        x = self.l2(x)\n",
        "        return x"
      ],
      "execution_count": 0,
      "outputs": []
    },
    {
      "cell_type": "code",
      "metadata": {
        "id": "PyEyWi7iP0mJ",
        "colab_type": "code",
        "colab": {}
      },
      "source": [
        "# Create experience replay memory\n",
        "class ReplayMemory:\n",
        "    \n",
        "    def __init__(self, capacity):\n",
        "        self.capacity = capacity\n",
        "        self.memory = []\n",
        "\n",
        "    def push(self, transition):\n",
        "        self.memory.append(transition)\n",
        "        if len(self.memory) > self.capacity:\n",
        "            self.memory.pop(0)\n",
        "\n",
        "    def sample(self, batch_size):\n",
        "      return ([], random.sample(self.memory, batch_size), [])\n",
        "\n",
        "    def __len__(self):\n",
        "        return len(self.memory)"
      ],
      "execution_count": 0,
      "outputs": []
    },
    {
      "cell_type": "code",
      "metadata": {
        "id": "PlrMVgrfyrpB",
        "colab_type": "code",
        "colab": {}
      },
      "source": [
        "# Create prioritized experience replay memory\n",
        "class PrioritizedReplayMemory:\n",
        "    \n",
        "    def __init__(self, capacity, epsilon = 0.001, prioritization = 1):\n",
        "        self.capacity = capacity\n",
        "        self.memory = []\n",
        "        self.priorities = []\n",
        "        self.max_priority = 1\n",
        "        self.epsilon = epsilon\n",
        "        self.prioritization = prioritization\n",
        "\n",
        "    def push(self, transition):\n",
        "        self.memory.append(transition)\n",
        "        self.priorities.append(self.max_priority)\n",
        "        if len(self.memory) > self.capacity:\n",
        "            self.memory.pop(0)\n",
        "            self.priorities.pop(0)\n",
        "\n",
        "    def sample(self, batch_size):\n",
        "      # Proportional sampling based on priorities (rank based could be implemented as well)\n",
        "      priorities = np.asarray(self.priorities)\n",
        "      priorities = priorities + self.epsilon # This is to make everything have non-zero probability\n",
        "      priorities = priorities ** self.prioritization # This controls how strongly we prioritize transitions with higher errors\n",
        "      priorities = priorities/priorities.sum()\n",
        "      sample = np.random.choice(list(range(len(self.memory))), batch_size, False, priorities)\n",
        "      return (sample, np.asarray(self.memory)[sample], priorities)\n",
        "\n",
        "    def __len__(self):\n",
        "        return len(self.memory)"
      ],
      "execution_count": 0,
      "outputs": []
    },
    {
      "cell_type": "code",
      "metadata": {
        "id": "sB609r9ZzjXl",
        "colab_type": "code",
        "colab": {}
      },
      "source": [
        "# Epsilon annealing\n",
        "def get_epsilon(it):\n",
        "    return max(0.05, 1 - it * 0.95 /1000)"
      ],
      "execution_count": 0,
      "outputs": []
    },
    {
      "cell_type": "code",
      "metadata": {
        "id": "71ctya_jYzjA",
        "colab_type": "code",
        "colab": {}
      },
      "source": [
        "# Beta annealing\n",
        "def get_beta(episode, num_episodes):\n",
        "    return 0.4 + (episode+1)/(num_episodes+1)*0.6"
      ],
      "execution_count": 0,
      "outputs": []
    },
    {
      "cell_type": "code",
      "metadata": {
        "id": "BeTeNikUzlga",
        "colab_type": "code",
        "colab": {}
      },
      "source": [
        "# Action selection\n",
        "def select_action(model, state, epsilon):\n",
        "    with torch.no_grad():\n",
        "        Q_values = model(torch.Tensor(state))\n",
        "        if random.random() > epsilon:\n",
        "            return Q_values.argmax().item()\n",
        "        else:\n",
        "            return random.randint(0, Q_values.shape[0] - 1)"
      ],
      "execution_count": 0,
      "outputs": []
    },
    {
      "cell_type": "code",
      "metadata": {
        "id": "l3-3Up8XzvPt",
        "colab_type": "code",
        "colab": {}
      },
      "source": [
        "# Training code\n",
        "def compute_q_val(model, state, action):\n",
        "    return model(state).gather(1, action.unsqueeze(1)).squeeze()    \n",
        "    \n",
        "def compute_target(model, reward, next_state, done, discount_factor):\n",
        "    # done is a boolean (vector) that indicates if next_state is terminal (episode is done)\n",
        "    return reward + discount_factor * model(next_state).max(1)[0] * (1 - done.float())\n",
        "\n",
        "def train(model, memory, optimizer, batch_size, discount_factor, beta):\n",
        "    # DO NOT MODIFY THIS FUNCTION\n",
        "    \n",
        "    # don't learn without some decent experience\n",
        "    if len(memory) < batch_size:\n",
        "        return None\n",
        "\n",
        "    # random transition batch is taken from experience replay memory\n",
        "    indexes, transitions, priorities = memory.sample(batch_size)\n",
        "    \n",
        "    # transition is a list of 4-tuples, instead we want 4 vectors (as torch.Tensor's)\n",
        "    state, action, reward, next_state, done = zip(*transitions)\n",
        "    \n",
        "    # convert to PyTorch and define types\n",
        "    state = torch.tensor(state, dtype=torch.float)\n",
        "    action = torch.tensor(action, dtype=torch.int64)  # Need 64 bit to use them as index\n",
        "    next_state = torch.tensor(next_state, dtype=torch.float)\n",
        "    reward = torch.tensor(reward, dtype=torch.float)\n",
        "    done = torch.tensor(done, dtype=torch.uint8)  # Boolean\n",
        "    \n",
        "    # compute the q value\n",
        "    q_val = compute_q_val(model, state, action)\n",
        "    \n",
        "    with torch.no_grad():  # Don't compute gradient info for the target (semi-gradient)\n",
        "        target = compute_target(model, reward, next_state, done, discount_factor)\n",
        "        \n",
        "    # loss is measured from error between current and newly expected Q values\n",
        "    loss = F.smooth_l1_loss(q_val, target, reduce = False)\n",
        "    \n",
        "    # Update priorities\n",
        "    if isinstance(memory, PrioritizedReplayMemory):\n",
        "      errors = (target - q_val).abs()\n",
        "      iml = 1/len(memory)\n",
        "      for i, idx in enumerate(indexes):\n",
        "        error = errors[i].item()\n",
        "        memory.priorities[idx] = error\n",
        "        \n",
        "        # Multiply with importance sampling weights\n",
        "        loss[i] *=  (iml * 1/priorities[idx])**beta\n",
        "        \n",
        "      max_error = float(errors.max())\n",
        "      if max_error > memory.max_priority:\n",
        "        memory.max_priority = max_error\n",
        "    \n",
        "    \n",
        "    loss = loss.mean() \n",
        "    # backpropagation of loss to Neural Network (PyTorch magic)\n",
        "    optimizer.zero_grad()\n",
        "    loss.backward()\n",
        "    optimizer.step()\n",
        "    \n",
        "    return loss.item()  # Returns a Python scalar, and releases history (similar to .detach())\n",
        "  \n",
        "def run_episodes(train, memory, env, num_episodes, batch_size, discount_factor, learn_rate, printable=False):\n",
        " \n",
        "  # Create Q-net\n",
        "  num_hidden = 128\n",
        "  state_space = env.reset().size\n",
        "  action_space = env.action_space.n\n",
        "  model = QNetwork(state_space, action_space, num_hidden)\n",
        "  optimizer = optim.Adam(model.parameters(), learn_rate)\n",
        "  #her = HER()\n",
        "\n",
        "  global_steps = 0  # Count the steps (do not reset at episode start, to compute epsilon)\n",
        "  episode_durations = []\n",
        "  rewards = []\n",
        "\n",
        "  for i in range(num_episodes):\n",
        "      State = env.reset()\n",
        "      Done = False\n",
        "      steps = 0\n",
        "      acc_reward = 0\n",
        "      while not Done:\n",
        "          epsilon = get_epsilon(global_steps)\n",
        "          beta = get_beta(i, num_episodes)\n",
        "          Action = select_action(model, State, epsilon)\n",
        "          (State_, Reward, Done, _) = env.step(Action)\n",
        "\n",
        "          memory.push((State, Action, Reward, State_, Done))\n",
        "          #her.push((State, Action, Reward, State_, Done))\n",
        "\n",
        "          train(model, memory, optimizer, batch_size, discount_factor, beta)\n",
        "          State = State_\n",
        "          steps += 1\n",
        "          global_steps += 1\n",
        "          acc_reward += Reward      \n",
        "      # HER\n",
        "      # her_list = her.backward()\n",
        "      # for item in her_list:\n",
        "      #     memory.push(item)\n",
        "\n",
        "      episode_durations.append(steps)\n",
        "      rewards.append(acc_reward)\n",
        "      if printable:\n",
        "          if i % 10 == 0:\n",
        "            print(i, rewards[i])\n",
        "\n",
        "  return rewards"
      ],
      "execution_count": 0,
      "outputs": []
    },
    {
      "cell_type": "code",
      "metadata": {
        "id": "EU183jA5Rv6J",
        "colab_type": "code",
        "colab": {}
      },
      "source": [
        "def smooth(x, N):\n",
        "    cumsum = np.cumsum(np.insert(x, 0, 0)) \n",
        "    return (cumsum[N:] - cumsum[:-N]) / float(N)"
      ],
      "execution_count": 0,
      "outputs": []
    },
    {
      "cell_type": "markdown",
      "metadata": {
        "id": "a3urh5WxK3PM",
        "colab_type": "text"
      },
      "source": [
        "## HER\n"
      ]
    },
    {
      "cell_type": "code",
      "metadata": {
        "id": "6eqhC1VvKVm-",
        "colab_type": "code",
        "colab": {}
      },
      "source": [
        "class HER:\n",
        "    def __init__(self):\n",
        "        self.buffer = deque()\n",
        "        \n",
        "    def reset(self):\n",
        "        self.buffer = deque()\n",
        "        \n",
        "    def push(self,item):\n",
        "        self.buffer.append(item)\n",
        "        \n",
        "    def backward(self):\n",
        "        transitions = len(self.buffer)\n",
        "        # the tuple is S, A, R', S', done\n",
        "        # the state has 3 dims because it is concatenated with goal\n",
        "        # in the beggining the goal is the last state in our baffer.\n",
        "\n",
        "        last_tuple = -1\n",
        "        state_goal = 0\n",
        "        reward = 2\n",
        "        next_state_goal = 3\n",
        "        done = 4\n",
        "        prev_goal = 2\n",
        "        goal = 2\n",
        "        state = 1\n",
        "\n",
        "        # print(self.buffer[last_tuple][next_state_goal])\n",
        "        # final_goal = self.buffer[last_tuple][next_state_goal][state]\n",
        "        final_goal = self.buffer[last_tuple][next_state_goal]\n",
        "        print(final_goal)\n",
        "        for i in range(transitions):\n",
        "            prev_tuple = -1-i\n",
        "           \n",
        "            # we iterate and set the goal to S and S' of the previous tuple.\n",
        "            # self.buffer[prev_tuple][state_goal][goal,:,:] = final_goal\n",
        "            # self.buffer[prev_tuple][next_state_goal][goal,:,:] = final_goal\n",
        "\n",
        "            # self.buffer[prev_tuple][reward] = -1.0\n",
        "            # self.buffer[prev_tuple][done] = False\n",
        "\n",
        "            # if the next state S' is the final_goal we set the reward and the done.\n",
        "            \n",
        "            n_state = self.buffer[prev_tuple][next_state_goal]\n",
        "            state_features_number = len(n_state)\n",
        "            \n",
        "            # we bin the state for every 0.05 \n",
        "            reach_the_final_goal = True\n",
        "            if abs(n_state[0] - final_goal[0]) > 0.001:\n",
        "               reach_the_final_goal = False\n",
        "            if abs(n_state[1] - final_goal[1]) > 0.0001:\n",
        "               reach_the_final_goal = False\n",
        "\n",
        "            if reach_the_final_goal:\n",
        "               to_list = list(self.buffer[prev_tuple])\n",
        "               to_list[2] = 0.0\n",
        "               to_list[4] = True\n",
        "               self.buffer[prev_tuple] = tuple(to_list)\n",
        "\n",
        "            # if self.buffer[prev_tuple][next_state_goal][state,:,:] == final_goal:\n",
        "            #     self.buffer[prev_tuple][reward] = 0.0\n",
        "            #     self.buffer[prev_tuple][done] = True\n",
        "                \n",
        "        return self.buffer"
      ],
      "execution_count": 0,
      "outputs": []
    },
    {
      "cell_type": "markdown",
      "metadata": {
        "id": "zJnN90cOdsJr",
        "colab_type": "text"
      },
      "source": [
        "## Pipeline / Testing"
      ]
    },
    {
      "cell_type": "code",
      "metadata": {
        "id": "RD7z_98-O5Qv",
        "colab_type": "code",
        "colab": {}
      },
      "source": [
        "# Haven't found an elegant solution to externalizing the prioritization hyperparameter yet. Update manually!\n",
        "def run_experiments(replay_func, env, capacity, num_experiments, smoothing_factor, num_episodes, num_hidden, batch_size, discount_factor, learn_rate):\n",
        "    starting_time = time.time()\n",
        "    \n",
        "    nr_datapoints = num_episodes - smoothing_factor + 1\n",
        "    experiments = np.zeros(nr_datapoints)\n",
        "    \n",
        "    for i in range(num_experiments):\n",
        "        print('Experiment', i+1)\n",
        "        memory = replay_func(capacity, prioritization=0.5) # Prioritization\n",
        "        #memory = replay_func(capacity)\n",
        "        set_seeds((i+1)*42)\n",
        "        \n",
        "        results = run_episodes(train, memory, env, num_episodes, batch_size, discount_factor, learn_rate, printable=True)\n",
        "        experiments = np.vstack((experiments, np.array(smooth(results, smoothing_factor))))\n",
        "\n",
        "    # Delete initial zero entries    \n",
        "    experiments = np.delete(experiments, 0, 0)\n",
        "\n",
        "    # Plot\n",
        "    means, stds = np.mean(experiments, axis=0), np.std(experiments, axis=0)\n",
        "    area = int(round(simps(means, dx=1)))\n",
        "    elapsed_time = round(time.time() - starting_time, 2)\n",
        "    \n",
        "    plt.title('Area under curve: {}\\nElapsed time: {}s'.format(area, elapsed_time))\n",
        "    plt.fill_between(np.arange(nr_datapoints), means - stds, means + stds, alpha=0.5)\n",
        "    plt.xlabel(\"Episodes\")\n",
        "    plt.ylabel(\"Rewards\")\n",
        "    plt.xticks([i*10 for i in range(10)])\n",
        "    plt.plot(means, color='blue', label=\"Mean rewards over {} experiments\".format(num_experiments))\n",
        "    plt.legend(loc='upper left')\n",
        "    plt.savefig(\"{}_{}_{}x{}_p0_5.png\".format(env.unwrapped.__class__.__name__, replay_func.__name__, num_experiments, num_episodes)) # Prioritization"
      ],
      "execution_count": 0,
      "outputs": []
    },
    {
      "cell_type": "code",
      "metadata": {
        "id": "ugfJt6Csd0NR",
        "colab_type": "code",
        "outputId": "3dfa7091-7d42-4d0d-de91-d67eb907fe62",
        "colab": {
          "base_uri": "https://localhost:8080/",
          "height": 1000
        }
      },
      "source": [
        "# Current environments: \n",
        "# cartpole_env, mountaincar_env, acrobot_env\n",
        "# Use Acrobot with 50 episodes\n",
        "# Use Cartpole with 100 episodes\n",
        "# Test Replay vs PER(prio=1) vs PER(prio=2) ?\n",
        "\n",
        "run_experiments(PrioritizedReplayMemory, env=acrobot_env, capacity=10000, num_experiments=10, smoothing_factor=5, num_episodes=100, num_hidden=128, batch_size=64, discount_factor=0.8, learn_rate=0.001)"
      ],
      "execution_count": 0,
      "outputs": [
        {
          "output_type": "stream",
          "text": [
            "Experiment 1\n"
          ],
          "name": "stdout"
        },
        {
          "output_type": "stream",
          "text": [
            "/usr/local/lib/python3.6/dist-packages/torch/nn/_reduction.py:43: UserWarning: size_average and reduce args will be deprecated, please use reduction='none' instead.\n",
            "  warnings.warn(warning.format(ret))\n"
          ],
          "name": "stderr"
        },
        {
          "output_type": "stream",
          "text": [
            "0 -500.0\n",
            "10 -213.0\n",
            "20 -231.0\n",
            "30 -353.0\n",
            "40 -500.0\n",
            "50 -500.0\n",
            "60 -170.0\n",
            "70 -430.0\n",
            "80 -500.0\n",
            "90 -200.0\n",
            "Experiment 2\n",
            "0 -500.0\n",
            "10 -266.0\n",
            "20 -327.0\n",
            "30 -291.0\n",
            "40 -285.0\n",
            "50 -500.0\n",
            "60 -232.0\n",
            "70 -217.0\n",
            "80 -328.0\n",
            "90 -278.0\n",
            "Experiment 3\n",
            "0 -500.0\n",
            "10 -500.0\n",
            "20 -500.0\n",
            "30 -500.0\n",
            "40 -168.0\n",
            "50 -397.0\n",
            "60 -330.0\n",
            "70 -382.0\n",
            "80 -389.0\n",
            "90 -349.0\n",
            "Experiment 4\n",
            "0 -393.0\n",
            "10 -500.0\n",
            "20 -434.0\n",
            "30 -246.0\n",
            "40 -475.0\n",
            "50 -500.0\n",
            "60 -227.0\n",
            "70 -500.0\n",
            "80 -277.0\n",
            "90 -500.0\n",
            "Experiment 5\n",
            "0 -500.0\n",
            "10 -500.0\n",
            "20 -352.0\n",
            "30 -450.0\n",
            "40 -495.0\n",
            "50 -420.0\n",
            "60 -179.0\n",
            "70 -500.0\n",
            "80 -454.0\n",
            "90 -500.0\n",
            "Experiment 6\n",
            "0 -500.0\n",
            "10 -500.0\n",
            "20 -500.0\n",
            "30 -500.0\n",
            "40 -500.0\n",
            "50 -448.0\n",
            "60 -183.0\n",
            "70 -485.0\n",
            "80 -271.0\n",
            "90 -301.0\n",
            "Experiment 7\n",
            "0 -500.0\n",
            "10 -500.0\n",
            "20 -500.0\n",
            "30 -500.0\n",
            "40 -500.0\n",
            "50 -368.0\n",
            "60 -178.0\n",
            "70 -489.0\n",
            "80 -127.0\n",
            "90 -164.0\n",
            "Experiment 8\n",
            "0 -500.0\n",
            "10 -458.0\n",
            "20 -500.0\n",
            "30 -333.0\n",
            "40 -272.0\n",
            "50 -491.0\n",
            "60 -412.0\n",
            "70 -134.0\n",
            "80 -238.0\n",
            "90 -500.0\n",
            "Experiment 9\n",
            "0 -500.0\n",
            "10 -500.0\n",
            "20 -349.0\n",
            "30 -254.0\n",
            "40 -309.0\n",
            "50 -225.0\n",
            "60 -179.0\n",
            "70 -500.0\n",
            "80 -500.0\n",
            "90 -314.0\n",
            "Experiment 10\n",
            "0 -500.0\n",
            "10 -500.0\n",
            "20 -500.0\n",
            "30 -365.0\n",
            "40 -399.0\n",
            "50 -187.0\n",
            "60 -464.0\n",
            "70 -219.0\n",
            "80 -451.0\n",
            "90 -246.0\n"
          ],
          "name": "stdout"
        },
        {
          "output_type": "display_data",
          "data": {
            "image/png": "[encoded data removed]",
            "text/plain": [
              "<Figure size 432x288 with 1 Axes>"
            ]
          },
          "metadata": {
            "tags": []
          }
        }
      ]
    }
  ]
}